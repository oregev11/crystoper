{
 "cells": [
  {
   "cell_type": "code",
   "execution_count": 4,
   "metadata": {},
   "outputs": [],
   "source": [
    "import numpy as np\n",
    "import pandas as pd\n"
   ]
  },
  {
   "cell_type": "code",
   "execution_count": 5,
   "metadata": {},
   "outputs": [
    {
     "data": {
      "text/plain": [
       "0      HEPES pH7.5, PAA (poly acrilic acid) 20%, MgCl...\n",
       "1      80-120mM MgCl2, 8% glycerol, 10% PEG 3350, 100...\n",
       "2      manganese chloride, potassium chloride, potass...\n",
       "3      0.1 M TRIS pH 8.8, 18% (w/v) polyethylene glyc...\n",
       "4      20% PEG4000, 200 mM sodium formate, 100 mM MES...\n",
       "                             ...                        \n",
       "941             0.1M HEPES(pH7.5), 2.4M Ammonium Sulfate\n",
       "942                       12% PEG 20000, 0.1M MES buffer\n",
       "943    25 mM Bis-Tris pH 6.0, 0.2 M (NH4)2SO4, 17% PE...\n",
       "944       0.1 M HEPES pH 7.75\\n1.4 M K H2PO4\\n2 mM CaCl2\n",
       "945    10% PEG 6,000, 5% MPD, 0.1M Hepes, pH 7.5, VAP...\n",
       "Name: pdbx_details, Length: 946, dtype: object"
      ]
     },
     "execution_count": 5,
     "metadata": {},
     "output_type": "execute_result"
    }
   ],
   "source": [
    "path = '/home/ofir/ofir_code/crystoper/data/pdb_data/parsed_data_toy.csv'\n",
    "df = pd.read_csv(path)\n",
    "sentences = df.pdbx_details\n",
    "sentences"
   ]
  },
  {
   "cell_type": "code",
   "execution_count": 23,
   "metadata": {},
   "outputs": [],
   "source": [
    "model_name = 'en_ner_bionlp13cg_md'\n",
    "nlp = spacy.load(model_name)"
   ]
  },
  {
   "cell_type": "code",
   "execution_count": 36,
   "metadata": {},
   "outputs": [
    {
     "name": "stdout",
     "output_type": "stream",
     "text": [
      "The text is: 0.1 m tris ph 8.8,\n",
      "*******************\n",
      "\n",
      "\n"
     ]
    }
   ],
   "source": [
    "text = '0.1 M TRIS pH 8.8, 18% (w/v) polyethylene glycol 4000, 0.2 M MgCl2, VAPOR DIFFUSION, SITTING DROP, temperature 298.0K'\n",
    "text = '0.1 M TRIS pH 8.8,'.lower()\n",
    "print(f'The text is: {text}')\n",
    "doc = nlp(text)\n",
    "for ent in doc.ents:\n",
    "    print(f'entity: {ent.text}, label: {ent.label_}')\n",
    "print('*******************\\n\\n')\n",
    "    "
   ]
  },
  {
   "cell_type": "code",
   "execution_count": 24,
   "metadata": {},
   "outputs": [
    {
     "name": "stdout",
     "output_type": "stream",
     "text": [
      "The text is: compounds: 80-120mM MgCl2, 8% glycerol, 10% PEG 3350, 100mM HEPES pH 7.5\n",
      "entity: glycerol, label: SIMPLE_CHEMICAL\n",
      "entity: PEG 3350, label: SIMPLE_CHEMICAL\n",
      "*******************\n",
      "\n",
      "\n",
      "The text is: compounds: manganese chloride, potassium chloride, potassium cacodylate\n",
      "entity: manganese chloride, label: SIMPLE_CHEMICAL\n",
      "entity: potassium chloride, label: SIMPLE_CHEMICAL\n",
      "entity: potassium, label: SIMPLE_CHEMICAL\n",
      "*******************\n",
      "\n",
      "\n",
      "The text is: compounds: 0.1 M TRIS pH 8.8, 18% (w/v) polyethylene glycol 4000, 0.2 M MgCl2, VAPOR DIFFUSION, SITTING DROP, temperature 298.0K\n",
      "entity: w/v, label: SIMPLE_CHEMICAL\n",
      "*******************\n",
      "\n",
      "\n",
      "The text is: compounds: 20% PEG4000, 200 mM sodium formate, 100 mM MES, pH 6.0, VAPOR DIFFUSION, HANGING DROP, temperature 293K\n",
      "entity: PEG4000, label: SIMPLE_CHEMICAL\n",
      "entity: sodium formate, label: SIMPLE_CHEMICAL\n",
      "*******************\n",
      "\n",
      "\n",
      "The text is: compounds: 40% PEG400, 0.1M NaCitrate, 0.1M Tris-HCl, 7.5\n",
      "entity: NaCitrate, label: SIMPLE_CHEMICAL\n",
      "*******************\n",
      "\n",
      "\n",
      "The text is: compounds: ammonium sulfate, citratet, sodium tartrae, pH 5.0, VAPOR DIFFUSION, HANGING DROP, temperature 293K\n",
      "entity: ammonium sulfate, label: SIMPLE_CHEMICAL\n",
      "entity: sodium, label: SIMPLE_CHEMICAL\n",
      "*******************\n",
      "\n",
      "\n",
      "The text is: compounds: CAPS, Ammonium Sulfate, Lithium Sulfate, pH 10.5, VAPOR DIFFUSION, HANGING DROP, temperature 298K\n",
      "entity: CAPS, label: CANCER\n",
      "entity: Ammonium Sulfate, label: SIMPLE_CHEMICAL\n",
      "entity: Lithium Sulfate, label: SIMPLE_CHEMICAL\n",
      "*******************\n",
      "\n",
      "\n",
      "The text is: compounds: 62% ammonium sulfate, 0.1 M HEPES, pH 7.5, 4% isopropanol, VAPOR DIFFUSION, HANGING DROP, temperature 298K\n",
      "entity: ammonium sulfate, label: SIMPLE_CHEMICAL\n",
      "*******************\n",
      "\n",
      "\n",
      "The text is: compounds: 0.15 M sodium formate, 20% PEG 3350, pH 7.2, VAPOR DIFFUSION, HANGING DROP, temperature 289K\n",
      "entity: sodium formate, label: SIMPLE_CHEMICAL\n",
      "entity: PEG 3350, label: SIMPLE_CHEMICAL\n",
      "*******************\n",
      "\n",
      "\n"
     ]
    }
   ],
   "source": [
    "for text in sentences.iloc[1:10]:\n",
    "    text = 'compounds: ' + text\n",
    "    print(f'The text is: {text}')\n",
    "    doc = nlp(text)\n",
    "    for ent in doc.ents:\n",
    "        print(f'entity: {ent.text}, label: {ent.label_}')\n",
    "    print('*******************\\n\\n')\n",
    "    "
   ]
  },
  {
   "cell_type": "code",
   "execution_count": 22,
   "metadata": {},
   "outputs": [
    {
     "name": "stdout",
     "output_type": "stream",
     "text": [
      "The text is:  VAPOR DIFFUSION,\n",
      "*******************\n",
      "\n",
      "\n"
     ]
    }
   ],
   "source": [
    "text = ' VAPOR DIFFUSION,'\n",
    "print(f'The text is: {text}')\n",
    "doc = nlp(text)\n",
    "for ent in doc.ents:\n",
    "    print(f'entity: {ent.text}, label: {ent.label_}')\n",
    "print('*******************\\n\\n')\n"
   ]
  },
  {
   "cell_type": "code",
   "execution_count": 1,
   "metadata": {},
   "outputs": [
    {
     "name": "stderr",
     "output_type": "stream",
     "text": [
      "/home/ofir/.pyenv/versions/3.10.13/envs/crystoEnv/lib/python3.10/site-packages/spacy/language.py:2195: FutureWarning: Possible set union at position 6328\n",
      "  deserializers[\"tokenizer\"] = lambda p: self.tokenizer.from_disk(  # type: ignore[union-attr]\n"
     ]
    }
   ],
   "source": [
    "import spacy\n",
    "nlp = spacy.load(\"en_ner_bc5cdr_md\")\n",
    "nlp.te\n"
   ]
  },
  {
   "cell_type": "code",
   "execution_count": 33,
   "metadata": {},
   "outputs": [],
   "source": [
    "import pubchempy as pcp\n",
    "\n",
    "chemical_name = \"K H2PO4\"\n",
    "matches = pcp.get_compounds(chemical_name, 'name')\n",
    "if matches:\n",
    "    print(\"Potential matches found:\", [c.iupac_name for c in matches])\n"
   ]
  },
  {
   "cell_type": "code",
   "execution_count": null,
   "metadata": {},
   "outputs": [],
   "source": []
  }
 ],
 "metadata": {
  "kernelspec": {
   "display_name": "crystoEnv",
   "language": "python",
   "name": "python3"
  },
  "language_info": {
   "codemirror_mode": {
    "name": "ipython",
    "version": 3
   },
   "file_extension": ".py",
   "mimetype": "text/x-python",
   "name": "python",
   "nbconvert_exporter": "python",
   "pygments_lexer": "ipython3",
   "version": "3.10.13"
  }
 },
 "nbformat": 4,
 "nbformat_minor": 2
}
