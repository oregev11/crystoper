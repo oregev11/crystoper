{
 "cells": [
  {
   "cell_type": "code",
   "execution_count": 8,
   "metadata": {},
   "outputs": [],
   "source": [
    "import numpy as np\n",
    "import pandas as pd\n",
    "import matplotlib.pyplot as plt\n",
    "import re\n"
   ]
  },
  {
   "cell_type": "code",
   "execution_count": 9,
   "metadata": {},
   "outputs": [],
   "source": [
    "path = '/home/ofir/ofir_code/crystoper/data/pdb_data/parsed_data.csv'"
   ]
  },
  {
   "cell_type": "code",
   "execution_count": 10,
   "metadata": {},
   "outputs": [],
   "source": [
    "def print_all(data, n):\n",
    "    for i, v in enumerate(data):\n",
    "        \n",
    "        print(v)\n",
    "        \n",
    "        if i == n:\n",
    "            break"
   ]
  },
  {
   "cell_type": "code",
   "execution_count": 11,
   "metadata": {},
   "outputs": [
    {
     "data": {
      "text/html": [
       "<div>\n",
       "<style scoped>\n",
       "    .dataframe tbody tr th:only-of-type {\n",
       "        vertical-align: middle;\n",
       "    }\n",
       "\n",
       "    .dataframe tbody tr th {\n",
       "        vertical-align: top;\n",
       "    }\n",
       "\n",
       "    .dataframe thead th {\n",
       "        text-align: right;\n",
       "    }\n",
       "</style>\n",
       "<table border=\"1\" class=\"dataframe\">\n",
       "  <thead>\n",
       "    <tr style=\"text-align: right;\">\n",
       "      <th></th>\n",
       "      <th>pdb_id</th>\n",
       "      <th>pe_index</th>\n",
       "      <th>sequence</th>\n",
       "      <th>poly_type</th>\n",
       "      <th>struct_method</th>\n",
       "      <th>crystal_method</th>\n",
       "      <th>ph</th>\n",
       "      <th>temp</th>\n",
       "      <th>pdbx_details</th>\n",
       "      <th>deposit_date</th>\n",
       "      <th>revision_date</th>\n",
       "    </tr>\n",
       "  </thead>\n",
       "  <tbody>\n",
       "    <tr>\n",
       "      <th>0</th>\n",
       "      <td>5IQ6</td>\n",
       "      <td>1</td>\n",
       "      <td>MDVIGERIKRIKEEHNSTWHYDDENPYKTWAYHGSYEVKATGSASS...</td>\n",
       "      <td>Protein</td>\n",
       "      <td>X-RAY DIFFRACTION</td>\n",
       "      <td>VAPOR DIFFUSION, SITTING DROP</td>\n",
       "      <td>7.5</td>\n",
       "      <td>293.00</td>\n",
       "      <td>HEPES pH7.5, PAA (poly acrilic acid) 20%, MgCl...</td>\n",
       "      <td>2016-03-10T00:00:00+0000</td>\n",
       "      <td>2024-05-08T00:00:00+0000</td>\n",
       "    </tr>\n",
       "    <tr>\n",
       "      <th>1</th>\n",
       "      <td>5IQB</td>\n",
       "      <td>1</td>\n",
       "      <td>MEYRYDDNATNVKAMKYLIEHYFDNFKVDSIEIIGSGYDSVAYLVN...</td>\n",
       "      <td>Protein</td>\n",
       "      <td>X-RAY DIFFRACTION</td>\n",
       "      <td>VAPOR DIFFUSION, HANGING DROP</td>\n",
       "      <td>7.5</td>\n",
       "      <td>296.00</td>\n",
       "      <td>80-120mM MgCl2, 8% glycerol, 10% PEG 3350, 100...</td>\n",
       "      <td>2016-03-10T00:00:00+0000</td>\n",
       "      <td>2023-09-27T00:00:00+0000</td>\n",
       "    </tr>\n",
       "    <tr>\n",
       "      <th>2</th>\n",
       "      <td>6IQ4</td>\n",
       "      <td>6</td>\n",
       "      <td>ATCAATATCCACCTGCAGATACTACCAAAAGTGTATTTGGAAACTG...</td>\n",
       "      <td>DNA</td>\n",
       "      <td>X-RAY DIFFRACTION</td>\n",
       "      <td>VAPOR DIFFUSION, HANGING DROP</td>\n",
       "      <td>6.0</td>\n",
       "      <td>291.15</td>\n",
       "      <td>manganese chloride, potassium chloride, potass...</td>\n",
       "      <td>2018-11-06T00:00:00+0000</td>\n",
       "      <td>2024-03-27T00:00:00+0000</td>\n",
       "    </tr>\n",
       "    <tr>\n",
       "      <th>3</th>\n",
       "      <td>4IQJ</td>\n",
       "      <td>4</td>\n",
       "      <td>MGSKLKFAHLHQHTQFSLLDGAAKLQDLLKWVKETTPEDPALAMTD...</td>\n",
       "      <td>Protein</td>\n",
       "      <td>X-RAY DIFFRACTION</td>\n",
       "      <td>VAPOR DIFFUSION, SITTING DROP</td>\n",
       "      <td>8.8</td>\n",
       "      <td>298.00</td>\n",
       "      <td>0.1 M TRIS pH 8.8, 18% (w/v) polyethylene glyc...</td>\n",
       "      <td>2013-01-11T00:00:00+0000</td>\n",
       "      <td>2023-09-20T00:00:00+0000</td>\n",
       "    </tr>\n",
       "    <tr>\n",
       "      <th>4</th>\n",
       "      <td>4IQW</td>\n",
       "      <td>1</td>\n",
       "      <td>HMSPSPVPGSQNVPAPAVKKISQYACQRRTTLNNYNQLFTDALDIL...</td>\n",
       "      <td>Protein</td>\n",
       "      <td>X-RAY DIFFRACTION</td>\n",
       "      <td>VAPOR DIFFUSION, HANGING DROP</td>\n",
       "      <td>6.0</td>\n",
       "      <td>293.00</td>\n",
       "      <td>20% PEG4000, 200 mM sodium formate, 100 mM MES...</td>\n",
       "      <td>2013-01-13T00:00:00+0000</td>\n",
       "      <td>2023-09-20T00:00:00+0000</td>\n",
       "    </tr>\n",
       "  </tbody>\n",
       "</table>\n",
       "</div>"
      ],
      "text/plain": [
       "  pdb_id  pe_index                                           sequence  \\\n",
       "0   5IQ6         1  MDVIGERIKRIKEEHNSTWHYDDENPYKTWAYHGSYEVKATGSASS...   \n",
       "1   5IQB         1  MEYRYDDNATNVKAMKYLIEHYFDNFKVDSIEIIGSGYDSVAYLVN...   \n",
       "2   6IQ4         6  ATCAATATCCACCTGCAGATACTACCAAAAGTGTATTTGGAAACTG...   \n",
       "3   4IQJ         4  MGSKLKFAHLHQHTQFSLLDGAAKLQDLLKWVKETTPEDPALAMTD...   \n",
       "4   4IQW         1  HMSPSPVPGSQNVPAPAVKKISQYACQRRTTLNNYNQLFTDALDIL...   \n",
       "\n",
       "  poly_type      struct_method                 crystal_method   ph    temp  \\\n",
       "0   Protein  X-RAY DIFFRACTION  VAPOR DIFFUSION, SITTING DROP  7.5  293.00   \n",
       "1   Protein  X-RAY DIFFRACTION  VAPOR DIFFUSION, HANGING DROP  7.5  296.00   \n",
       "2       DNA  X-RAY DIFFRACTION  VAPOR DIFFUSION, HANGING DROP  6.0  291.15   \n",
       "3   Protein  X-RAY DIFFRACTION  VAPOR DIFFUSION, SITTING DROP  8.8  298.00   \n",
       "4   Protein  X-RAY DIFFRACTION  VAPOR DIFFUSION, HANGING DROP  6.0  293.00   \n",
       "\n",
       "                                        pdbx_details  \\\n",
       "0  HEPES pH7.5, PAA (poly acrilic acid) 20%, MgCl...   \n",
       "1  80-120mM MgCl2, 8% glycerol, 10% PEG 3350, 100...   \n",
       "2  manganese chloride, potassium chloride, potass...   \n",
       "3  0.1 M TRIS pH 8.8, 18% (w/v) polyethylene glyc...   \n",
       "4  20% PEG4000, 200 mM sodium formate, 100 mM MES...   \n",
       "\n",
       "               deposit_date             revision_date  \n",
       "0  2016-03-10T00:00:00+0000  2024-05-08T00:00:00+0000  \n",
       "1  2016-03-10T00:00:00+0000  2023-09-27T00:00:00+0000  \n",
       "2  2018-11-06T00:00:00+0000  2024-03-27T00:00:00+0000  \n",
       "3  2013-01-11T00:00:00+0000  2023-09-20T00:00:00+0000  \n",
       "4  2013-01-13T00:00:00+0000  2023-09-20T00:00:00+0000  "
      ]
     },
     "execution_count": 11,
     "metadata": {},
     "output_type": "execute_result"
    }
   ],
   "source": [
    "df_pe = pd.read_csv(path)\n",
    "df_pe.head()"
   ]
  },
  {
   "cell_type": "markdown",
   "metadata": {},
   "source": [
    "# features in the data in the data\n",
    "* pdb_id - id of the entry \n",
    "* pe_index - id of the polymer entity (a sub-unit in an entry)\n",
    "* sequence - the sequence of a polymer entity\n",
    "* poly_type - type of polymeric entity\n",
    "* struct_method - method used to detrmine the crystal structure \n",
    "* crystal_method - method used to create the structure\n",
    "* ph - pH in the buffer durring crystallization\n",
    "* temp - temperature (in K) in the buffer durring crystallization\n",
    "* pdbx_details - free text describing the crystallization process and the buffer reagents.\n",
    "* deposit_date - date of structure deposit in the PDB.\n",
    "* revision_date - date of last revision of the entry in the PDB.\n",
    "\n"
   ]
  },
  {
   "cell_type": "markdown",
   "metadata": {},
   "source": [
    "# PDB structure, \"entry\" and \"polymer entity\"\n",
    "A single PDB structure (AKA entry) can have multiple separate polymeric subunits (AKA polymer entities).\n",
    "\n",
    "Poly entities of the same PDB entry will have exactly same info in all features except 'pe_index', 'sequence' and 'poly_type' \n",
    "\n",
    "this is because all entities of a single entry were crystalize together in the same assay."
   ]
  },
  {
   "cell_type": "code",
   "execution_count": 15,
   "metadata": {},
   "outputs": [
    {
     "data": {
      "text/html": [
       "<div>\n",
       "<style scoped>\n",
       "    .dataframe tbody tr th:only-of-type {\n",
       "        vertical-align: middle;\n",
       "    }\n",
       "\n",
       "    .dataframe tbody tr th {\n",
       "        vertical-align: top;\n",
       "    }\n",
       "\n",
       "    .dataframe thead th {\n",
       "        text-align: right;\n",
       "    }\n",
       "</style>\n",
       "<table border=\"1\" class=\"dataframe\">\n",
       "  <thead>\n",
       "    <tr style=\"text-align: right;\">\n",
       "      <th></th>\n",
       "      <th>pdb_id</th>\n",
       "      <th>struct_method</th>\n",
       "      <th>crystal_method</th>\n",
       "      <th>ph</th>\n",
       "      <th>temp</th>\n",
       "      <th>pdbx_details</th>\n",
       "      <th>deposit_date</th>\n",
       "      <th>revision_date</th>\n",
       "    </tr>\n",
       "  </thead>\n",
       "  <tbody>\n",
       "    <tr>\n",
       "      <th>0</th>\n",
       "      <td>5IQ6</td>\n",
       "      <td>X-RAY DIFFRACTION</td>\n",
       "      <td>VAPOR DIFFUSION, SITTING DROP</td>\n",
       "      <td>7.5</td>\n",
       "      <td>293.00</td>\n",
       "      <td>HEPES pH7.5, PAA (poly acrilic acid) 20%, MgCl...</td>\n",
       "      <td>2016-03-10T00:00:00+0000</td>\n",
       "      <td>2024-05-08T00:00:00+0000</td>\n",
       "    </tr>\n",
       "    <tr>\n",
       "      <th>1</th>\n",
       "      <td>5IQB</td>\n",
       "      <td>X-RAY DIFFRACTION</td>\n",
       "      <td>VAPOR DIFFUSION, HANGING DROP</td>\n",
       "      <td>7.5</td>\n",
       "      <td>296.00</td>\n",
       "      <td>80-120mM MgCl2, 8% glycerol, 10% PEG 3350, 100...</td>\n",
       "      <td>2016-03-10T00:00:00+0000</td>\n",
       "      <td>2023-09-27T00:00:00+0000</td>\n",
       "    </tr>\n",
       "    <tr>\n",
       "      <th>2</th>\n",
       "      <td>6IQ4</td>\n",
       "      <td>X-RAY DIFFRACTION</td>\n",
       "      <td>VAPOR DIFFUSION, HANGING DROP</td>\n",
       "      <td>6.0</td>\n",
       "      <td>291.15</td>\n",
       "      <td>manganese chloride, potassium chloride, potass...</td>\n",
       "      <td>2018-11-06T00:00:00+0000</td>\n",
       "      <td>2024-03-27T00:00:00+0000</td>\n",
       "    </tr>\n",
       "    <tr>\n",
       "      <th>3</th>\n",
       "      <td>4IQJ</td>\n",
       "      <td>X-RAY DIFFRACTION</td>\n",
       "      <td>VAPOR DIFFUSION, SITTING DROP</td>\n",
       "      <td>8.8</td>\n",
       "      <td>298.00</td>\n",
       "      <td>0.1 M TRIS pH 8.8, 18% (w/v) polyethylene glyc...</td>\n",
       "      <td>2013-01-11T00:00:00+0000</td>\n",
       "      <td>2023-09-20T00:00:00+0000</td>\n",
       "    </tr>\n",
       "    <tr>\n",
       "      <th>4</th>\n",
       "      <td>4IQW</td>\n",
       "      <td>X-RAY DIFFRACTION</td>\n",
       "      <td>VAPOR DIFFUSION, HANGING DROP</td>\n",
       "      <td>6.0</td>\n",
       "      <td>293.00</td>\n",
       "      <td>20% PEG4000, 200 mM sodium formate, 100 mM MES...</td>\n",
       "      <td>2013-01-13T00:00:00+0000</td>\n",
       "      <td>2023-09-20T00:00:00+0000</td>\n",
       "    </tr>\n",
       "    <tr>\n",
       "      <th>...</th>\n",
       "      <td>...</td>\n",
       "      <td>...</td>\n",
       "      <td>...</td>\n",
       "      <td>...</td>\n",
       "      <td>...</td>\n",
       "      <td>...</td>\n",
       "      <td>...</td>\n",
       "      <td>...</td>\n",
       "    </tr>\n",
       "    <tr>\n",
       "      <th>291874</th>\n",
       "      <td>3L9V</td>\n",
       "      <td>X-RAY DIFFRACTION</td>\n",
       "      <td>VAPOR DIFFUSION, HANGING DROP</td>\n",
       "      <td>7.0</td>\n",
       "      <td>293.00</td>\n",
       "      <td>1.45M sodium malonate, 0.5% (w/v) Jeffamine ED...</td>\n",
       "      <td>2010-01-05T00:00:00+0000</td>\n",
       "      <td>2017-11-01T00:00:00+0000</td>\n",
       "    </tr>\n",
       "    <tr>\n",
       "      <th>291875</th>\n",
       "      <td>7L9Q</td>\n",
       "      <td>X-RAY DIFFRACTION</td>\n",
       "      <td>VAPOR DIFFUSION, HANGING DROP</td>\n",
       "      <td>8.6</td>\n",
       "      <td>298.00</td>\n",
       "      <td>23% PEG3350, 100 mM Tris-HCl, pH 8.6, 200 mM m...</td>\n",
       "      <td>2021-01-04T00:00:00+0000</td>\n",
       "      <td>2023-10-18T00:00:00+0000</td>\n",
       "    </tr>\n",
       "    <tr>\n",
       "      <th>291876</th>\n",
       "      <td>4L9D</td>\n",
       "      <td>X-RAY DIFFRACTION</td>\n",
       "      <td>VAPOR DIFFUSION, HANGING DROP</td>\n",
       "      <td>5.5</td>\n",
       "      <td>291.00</td>\n",
       "      <td>1.2 M sodium citrate and 20% (w/v) PEG 8K, pH ...</td>\n",
       "      <td>2013-06-18T00:00:00+0000</td>\n",
       "      <td>2024-02-28T00:00:00+0000</td>\n",
       "    </tr>\n",
       "    <tr>\n",
       "      <th>291877</th>\n",
       "      <td>1L96</td>\n",
       "      <td>X-RAY DIFFRACTION</td>\n",
       "      <td>NaN</td>\n",
       "      <td>NaN</td>\n",
       "      <td>NaN</td>\n",
       "      <td>NaN</td>\n",
       "      <td>1992-02-11T00:00:00+0000</td>\n",
       "      <td>2024-02-14T00:00:00+0000</td>\n",
       "    </tr>\n",
       "    <tr>\n",
       "      <th>291879</th>\n",
       "      <td>1L95</td>\n",
       "      <td>X-RAY DIFFRACTION</td>\n",
       "      <td>NaN</td>\n",
       "      <td>NaN</td>\n",
       "      <td>NaN</td>\n",
       "      <td>NaN</td>\n",
       "      <td>1992-01-21T00:00:00+0000</td>\n",
       "      <td>2024-02-14T00:00:00+0000</td>\n",
       "    </tr>\n",
       "  </tbody>\n",
       "</table>\n",
       "<p>188770 rows × 8 columns</p>\n",
       "</div>"
      ],
      "text/plain": [
       "       pdb_id      struct_method                 crystal_method   ph    temp  \\\n",
       "0        5IQ6  X-RAY DIFFRACTION  VAPOR DIFFUSION, SITTING DROP  7.5  293.00   \n",
       "1        5IQB  X-RAY DIFFRACTION  VAPOR DIFFUSION, HANGING DROP  7.5  296.00   \n",
       "2        6IQ4  X-RAY DIFFRACTION  VAPOR DIFFUSION, HANGING DROP  6.0  291.15   \n",
       "3        4IQJ  X-RAY DIFFRACTION  VAPOR DIFFUSION, SITTING DROP  8.8  298.00   \n",
       "4        4IQW  X-RAY DIFFRACTION  VAPOR DIFFUSION, HANGING DROP  6.0  293.00   \n",
       "...       ...                ...                            ...  ...     ...   \n",
       "291874   3L9V  X-RAY DIFFRACTION  VAPOR DIFFUSION, HANGING DROP  7.0  293.00   \n",
       "291875   7L9Q  X-RAY DIFFRACTION  VAPOR DIFFUSION, HANGING DROP  8.6  298.00   \n",
       "291876   4L9D  X-RAY DIFFRACTION  VAPOR DIFFUSION, HANGING DROP  5.5  291.00   \n",
       "291877   1L96  X-RAY DIFFRACTION                            NaN  NaN     NaN   \n",
       "291879   1L95  X-RAY DIFFRACTION                            NaN  NaN     NaN   \n",
       "\n",
       "                                             pdbx_details  \\\n",
       "0       HEPES pH7.5, PAA (poly acrilic acid) 20%, MgCl...   \n",
       "1       80-120mM MgCl2, 8% glycerol, 10% PEG 3350, 100...   \n",
       "2       manganese chloride, potassium chloride, potass...   \n",
       "3       0.1 M TRIS pH 8.8, 18% (w/v) polyethylene glyc...   \n",
       "4       20% PEG4000, 200 mM sodium formate, 100 mM MES...   \n",
       "...                                                   ...   \n",
       "291874  1.45M sodium malonate, 0.5% (w/v) Jeffamine ED...   \n",
       "291875  23% PEG3350, 100 mM Tris-HCl, pH 8.6, 200 mM m...   \n",
       "291876  1.2 M sodium citrate and 20% (w/v) PEG 8K, pH ...   \n",
       "291877                                                NaN   \n",
       "291879                                                NaN   \n",
       "\n",
       "                    deposit_date             revision_date  \n",
       "0       2016-03-10T00:00:00+0000  2024-05-08T00:00:00+0000  \n",
       "1       2016-03-10T00:00:00+0000  2023-09-27T00:00:00+0000  \n",
       "2       2018-11-06T00:00:00+0000  2024-03-27T00:00:00+0000  \n",
       "3       2013-01-11T00:00:00+0000  2023-09-20T00:00:00+0000  \n",
       "4       2013-01-13T00:00:00+0000  2023-09-20T00:00:00+0000  \n",
       "...                          ...                       ...  \n",
       "291874  2010-01-05T00:00:00+0000  2017-11-01T00:00:00+0000  \n",
       "291875  2021-01-04T00:00:00+0000  2023-10-18T00:00:00+0000  \n",
       "291876  2013-06-18T00:00:00+0000  2024-02-28T00:00:00+0000  \n",
       "291877  1992-02-11T00:00:00+0000  2024-02-14T00:00:00+0000  \n",
       "291879  1992-01-21T00:00:00+0000  2024-02-14T00:00:00+0000  \n",
       "\n",
       "[188770 rows x 8 columns]"
      ]
     },
     "execution_count": 15,
     "metadata": {},
     "output_type": "execute_result"
    }
   ],
   "source": [
    "#we will get a df of entries alone \n",
    "cols = list(df_pe.columns)\n",
    "cols = [col for col in cols if col not in ('pe_index', 'sequence', 'poly_type')]\n",
    "df_entries = df_pe[cols].drop_duplicates()\n",
    "df_entries"
   ]
  },
  {
   "cell_type": "code",
   "execution_count": 16,
   "metadata": {},
   "outputs": [
    {
     "name": "stdout",
     "output_type": "stream",
     "text": [
      "In total the data contains 188770 PDB structures (entries) that are made of 291880 polymer entities\n"
     ]
    }
   ],
   "source": [
    "print(f\"In total the data contains {df_entries.shape[0]} PDB structures (entries) that are made of {df_pe.shape[0]} polymer entities\")"
   ]
  },
  {
   "cell_type": "code",
   "execution_count": 17,
   "metadata": {},
   "outputs": [
    {
     "name": "stdout",
     "output_type": "stream",
     "text": [
      "struct_method\n",
      "ELECTRON CRYSTALLOGRAPHY         3\n",
      "ELECTRON MICROSCOPY            345\n",
      "FIBER DIFFRACTION               30\n",
      "NEUTRON DIFFRACTION             40\n",
      "POWDER DIFFRACTION              21\n",
      "SOLID-STATE NMR                 13\n",
      "SOLUTION NMR                   205\n",
      "SOLUTION SCATTERING             21\n",
      "X-RAY DIFFRACTION           188092\n",
      "dtype: int64\n"
     ]
    }
   ],
   "source": [
    "# The data was filter for X-DAY only when fetching. yet - we want to validate it\n",
    "print(df_entries.groupby('struct_method').size())"
   ]
  },
  {
   "cell_type": "code",
   "execution_count": 18,
   "metadata": {},
   "outputs": [],
   "source": [
    "#let filter out all the nonX-ray data\n",
    "df_pe = df_pe.query('struct_method == \"X-RAY DIFFRACTION\"')\n",
    "df_entries = df_entries.query('struct_method == \"X-RAY DIFFRACTION\"')\n"
   ]
  },
  {
   "cell_type": "code",
   "execution_count": 19,
   "metadata": {},
   "outputs": [
    {
     "data": {
      "text/plain": [
       "poly_type\n",
       "DNA           15101\n",
       "NA-hybrid       218\n",
       "Other             6\n",
       "Protein      268067\n",
       "RNA            6529\n",
       "dtype: int64"
      ]
     },
     "execution_count": 19,
     "metadata": {},
     "output_type": "execute_result"
    }
   ],
   "source": [
    "#while most crystallization data is for Proteins, some structures contain also DNA and RNA. For the sake of this model we prefer to leave does out.\n",
    "#lets see their fraction in the data\n",
    "df_pe.groupby('poly_type').size()"
   ]
  },
  {
   "cell_type": "code",
   "execution_count": 20,
   "metadata": {},
   "outputs": [
    {
     "name": "stdout",
     "output_type": "stream",
     "text": [
      "out of 188092 structures, 176361 contains proteins only\n"
     ]
    }
   ],
   "source": [
    "mixed_ids = set(df_pe.query('poly_type != \"Protein\"').pdb_id)\n",
    "proteins_only_ids = set([id for id in df_pe.pdb_id if id not in mixed_ids])\n",
    "print(f'out of {len(df_entries)} structures, {len(proteins_only_ids)} contains proteins only')\n",
    "\n"
   ]
  },
  {
   "cell_type": "code",
   "execution_count": 21,
   "metadata": {},
   "outputs": [],
   "source": [
    "#for the sake of our model will use proteins-only structures\n",
    "df_pe = df_pe[df_pe.pdb_id.isin(proteins_only_ids)]\n",
    "df_entries = df_entries[df_entries.pdb_id.isin(proteins_only_ids)]"
   ]
  },
  {
   "cell_type": "code",
   "execution_count": 22,
   "metadata": {},
   "outputs": [
    {
     "data": {
      "text/plain": [
       "0\n",
       "1     142352\n",
       "2      23783\n",
       "3       6875\n",
       "4       1791\n",
       "5        675\n",
       "6        146\n",
       "7         60\n",
       "8         35\n",
       "9         10\n",
       "10        40\n",
       "11        33\n",
       "12        24\n",
       "13        85\n",
       "14       263\n",
       "15        65\n",
       "16        16\n",
       "17         3\n",
       "18         6\n",
       "19        13\n",
       "20        83\n",
       "22         1\n",
       "48         2\n",
       "dtype: int64"
      ]
     },
     "execution_count": 22,
     "metadata": {},
     "output_type": "execute_result"
    },
    {
     "data": {
      "image/png": "[encoded data removed]",
      "text/plain": [
       "<Figure size 1000x500 with 2 Axes>"
      ]
     },
     "metadata": {},
     "output_type": "display_data"
    }
   ],
   "source": [
    "#lets explore how many separate chains per structure - meaning how many polymer entities per pdb_id\n",
    "n_chains = df_pe.groupby('pdb_id').size()\n",
    "\n",
    "fig, axes = plt.subplots(1,2, figsize=[10,5])\n",
    "\n",
    "ax = axes[0]\n",
    "ax.hist(n_chains, bins=50);\n",
    "ax.set_xlabel('n chains in structure')\n",
    "ax.set_ylabel('count')\n",
    "\n",
    "#calculate cumsum the histogram data for counting number of pdb_id with x chains\n",
    "cumsum = n_chains.to_frame().reset_index().groupby(0).size().cumsum()\n",
    "cumsum = pd.concat([pd.Series((0)), cumsum]) #add dummy zero\n",
    "cumsum /= cumsum.iloc[-1]\n",
    "\n",
    "ax = axes[1]\n",
    " \n",
    "ax.plot(cumsum)\n",
    "ax.set_xlabel('n chains in structure')\n",
    "ax.set_ylabel('% of total data - cumulative')\n",
    "\n",
    "# ax.hlines([0.8, 0.99], 0, 50, color='red', linestyles='--')\n",
    "ax.vlines([1, 4], [0, 0], [0.8, 0.99], color='red', linestyles='--')\n",
    "ax.text(1, 0.81, '80%')\n",
    "ax.text(4 ,1, '99%')\n",
    "ax.set_xlim([0,10])\n",
    "\n",
    "fig.suptitle('number of chains per PDB structure')\n",
    "\n",
    "n_chains.to_frame().reset_index().groupby(0).size()"
   ]
  },
  {
   "cell_type": "markdown",
   "metadata": {},
   "source": [
    "As seen in the above figure, 80% have single chain, and 99% has 5 chains or less.\n",
    "\n",
    "We will start by training a model for structures with a single chain only.\n",
    "\n",
    "Later on a model that take more than one chain can be trained."
   ]
  },
  {
   "cell_type": "code",
   "execution_count": 23,
   "metadata": {},
   "outputs": [],
   "source": [
    "#filter for single chains\n",
    "s = df_pe.groupby('pdb_id').size()\n",
    "singles_ids = set(s[s == 1].index)\n",
    "df_pe = df_pe[df_pe.pdb_id.isin(singles_ids)]\n",
    "df_entries = df_entries[df_entries.pdb_id.isin(singles_ids)]\n",
    "\n",
    "\n",
    "\n"
   ]
  },
  {
   "cell_type": "code",
   "execution_count": 24,
   "metadata": {},
   "outputs": [
    {
     "name": "stdout",
     "output_type": "stream",
     "text": [
      "Out of 142352 entries in current data, 5866 lack pdbx details\n"
     ]
    }
   ],
   "source": [
    "#as we depend on the 'pdbx_details' feature as our label, lets remove instances the lack this feature\n",
    "print(f'Out of {len(df_entries)} entries in current data, {len(df_entries.query(\"pdbx_details.isna()\"))} lack pdbx details')\n"
   ]
  },
  {
   "cell_type": "code",
   "execution_count": 25,
   "metadata": {},
   "outputs": [],
   "source": [
    "#lets filter does out\n",
    "df_entries = df_entries.query('pdbx_details.notna()')\n",
    "df_pe = df_pe.query('pdbx_details.notna()')"
   ]
  },
  {
   "cell_type": "markdown",
   "metadata": {},
   "source": [
    "As a POC, we want to train a model that predicts pH and Temp alone\n",
    "\n",
    "Lets see how these features look like\n",
    "\n",
    "We will start by looking at Nan values and filling them out"
   ]
  },
  {
   "cell_type": "code",
   "execution_count": 26,
   "metadata": {},
   "outputs": [
    {
     "name": "stdout",
     "output_type": "stream",
     "text": [
      "Out of 136486 entries, 28732 are missing pH (21.05%)\n"
     ]
    }
   ],
   "source": [
    "n = len(df_entries)\n",
    "ph_miss = len(df_entries[df_entries.ph.isna()])\n",
    "print(f'Out of {n} entries, {ph_miss} are missing pH ({100*ph_miss/n:.2f}%)')"
   ]
  },
  {
   "cell_type": "markdown",
   "metadata": {},
   "source": [
    "# pH and Temp\n",
    "Lets overview the pH and Temp in the data.\n",
    "\n"
   ]
  },
  {
   "cell_type": "code",
   "execution_count": 27,
   "metadata": {},
   "outputs": [
    {
     "name": "stdout",
     "output_type": "stream",
     "text": [
      "for 28732 out of 136486 we could not extract pH\n"
     ]
    }
   ],
   "source": [
    "#lets fill the missing ph values by extracting the from the verbal description\n",
    "\n",
    "def parse_ph_from_string(s):\n",
    "    s = s.lower()\n",
    "    matches =  re.findall(r'ph\\s=*\\s*?\\d+(?:\\.\\d+)?', s)\n",
    "    \n",
    "    if len(matches) >=1 :\n",
    "        v = matches[0].split(' ')[-1]\n",
    "        v = v.replace('ph', '').replace('=', '').strip()\n",
    "        v = float(v)\n",
    "        if not 0.1 < v < 14:\n",
    "            v = np.nan\n",
    "        \n",
    "    else:\n",
    "        return np.nan\n",
    "\n",
    "m = df_entries.ph.isna()\n",
    "df_entries.loc[m, 'ph'] = df_entries.loc[m, 'pdbx_details'].apply(parse_ph_from_string)\n",
    "\n",
    "n = len(df_entries)\n",
    "n_missing_ph = df_entries.ph.isna().sum()\n",
    "\n",
    "print(f'for {n_missing_ph} out of {n} we could not extract pH') \n"
   ]
  },
  {
   "cell_type": "code",
   "execution_count": 28,
   "metadata": {},
   "outputs": [
    {
     "name": "stdout",
     "output_type": "stream",
     "text": [
      "for 14584 out of 136486 we could not extract temp\n"
     ]
    }
   ],
   "source": [
    "#we wil fill in some missing temp values\n",
    "def parse_temp_from_string(s):\n",
    "    s = s.lower()\n",
    "    matches =  re.findall(r'temperature \\d\\d\\dK?', s)\n",
    "    \n",
    "    if len(matches) > 0:\n",
    "        return int(matches[0].split()[-1])\n",
    "    else:\n",
    "        return np.nan\n",
    "\n",
    "\n",
    "m = df_entries.temp.isna()\n",
    "df_entries.loc[m, 'temp'] = df_entries.loc[m, 'pdbx_details'].apply(parse_temp_from_string)\n",
    "\n",
    "n = len(df_entries)\n",
    "n_missing_temp = df_entries.temp.isna().sum()\n",
    "\n",
    "print(f'for {n_missing_temp} out of {n} we could not extract temp') \n",
    "\n"
   ]
  },
  {
   "cell_type": "code",
   "execution_count": 39,
   "metadata": {},
   "outputs": [
    {
     "data": {
      "text/plain": [
       "Text(0.5, 1.0, 'temp distribution')"
      ]
     },
     "execution_count": 39,
     "metadata": {},
     "output_type": "execute_result"
    },
    {
     "data": {
      "image/png": "[encoded data removed]",
      "text/plain": [
       "<Figure size 1000x500 with 2 Axes>"
      ]
     },
     "metadata": {},
     "output_type": "display_data"
    }
   ],
   "source": [
    "fig,axes = plt.subplots(1, 2, figsize=[10,5])\n",
    "\n",
    "y = df_entries[df_entries.ph.notna()].ph\n",
    "ax = axes[0]\n",
    "ax.boxplot(y);\n",
    "ax.set_title('pH distribution')\n",
    "\n",
    "y = df_entries[df_entries.temp.notna()].temp\n",
    "ax = axes[1]\n",
    "ax.boxplot(y);\n",
    "ax.set_title('temp distribution')\n",
    "\n",
    "\n"
   ]
  },
  {
   "cell_type": "code",
   "execution_count": 45,
   "metadata": {},
   "outputs": [
    {
     "name": "stdout",
     "output_type": "stream",
     "text": [
      "There are 87 data points with temp < 250 K (-23 C). \n"
     ]
    }
   ],
   "source": [
    "print(f\"There are {(df_entries.temp < 250).sum()} data points with temp < 250 K (-23 C). \" )"
   ]
  },
  {
   "cell_type": "markdown",
   "metadata": {},
   "source": [
    "# Filtering\n",
    "For the sake of initial model, we will remove missing pH or Temp values.\n",
    "The final model will be trained directly on the pdbx_detail label.\n",
    "\n",
    "also, we will filter out temp < 250K as these are extremely low point and very little data points."
   ]
  }
 ],
 "metadata": {
  "kernelspec": {
   "display_name": "crystoEnv",
   "language": "python",
   "name": "python3"
  },
  "language_info": {
   "codemirror_mode": {
    "name": "ipython",
    "version": 3
   },
   "file_extension": ".py",
   "mimetype": "text/x-python",
   "name": "python",
   "nbconvert_exporter": "python",
   "pygments_lexer": "ipython3",
   "version": "3.10.13"
  }
 },
 "nbformat": 4,
 "nbformat_minor": 2
}
