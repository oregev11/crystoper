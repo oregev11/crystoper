{
 "cells": [
  {
   "cell_type": "code",
   "execution_count": 210,
   "metadata": {},
   "outputs": [],
   "source": [
    "\n",
    "import pandas as pd\n",
    "import matplotlib.pyplot as plt\n",
    "import re\n"
   ]
  },
  {
   "cell_type": "code",
   "execution_count": 30,
   "metadata": {},
   "outputs": [],
   "source": [
    "path = '/home/ofir/ofir_code/crystoper/data/pdb_data/parsed_data.csv'"
   ]
  },
  {
   "cell_type": "code",
   "execution_count": 197,
   "metadata": {},
   "outputs": [
    {
     "data": {
      "text/html": [
       "<div>\n",
       "<style scoped>\n",
       "    .dataframe tbody tr th:only-of-type {\n",
       "        vertical-align: middle;\n",
       "    }\n",
       "\n",
       "    .dataframe tbody tr th {\n",
       "        vertical-align: top;\n",
       "    }\n",
       "\n",
       "    .dataframe thead th {\n",
       "        text-align: right;\n",
       "    }\n",
       "</style>\n",
       "<table border=\"1\" class=\"dataframe\">\n",
       "  <thead>\n",
       "    <tr style=\"text-align: right;\">\n",
       "      <th></th>\n",
       "      <th>pdb_id</th>\n",
       "      <th>pe_index</th>\n",
       "      <th>sequence</th>\n",
       "      <th>poly_type</th>\n",
       "      <th>struct_method</th>\n",
       "      <th>crystal_method</th>\n",
       "      <th>ph</th>\n",
       "      <th>temp</th>\n",
       "      <th>pdbx_details</th>\n",
       "      <th>deposit_date</th>\n",
       "      <th>revision_date</th>\n",
       "    </tr>\n",
       "  </thead>\n",
       "  <tbody>\n",
       "    <tr>\n",
       "      <th>0</th>\n",
       "      <td>5IQ6</td>\n",
       "      <td>1</td>\n",
       "      <td>MDVIGERIKRIKEEHNSTWHYDDENPYKTWAYHGSYEVKATGSASS...</td>\n",
       "      <td>Protein</td>\n",
       "      <td>X-RAY DIFFRACTION</td>\n",
       "      <td>VAPOR DIFFUSION, SITTING DROP</td>\n",
       "      <td>7.5</td>\n",
       "      <td>293.00</td>\n",
       "      <td>HEPES pH7.5, PAA (poly acrilic acid) 20%, MgCl...</td>\n",
       "      <td>2016-03-10T00:00:00+0000</td>\n",
       "      <td>2024-05-08T00:00:00+0000</td>\n",
       "    </tr>\n",
       "    <tr>\n",
       "      <th>1</th>\n",
       "      <td>5IQB</td>\n",
       "      <td>1</td>\n",
       "      <td>MEYRYDDNATNVKAMKYLIEHYFDNFKVDSIEIIGSGYDSVAYLVN...</td>\n",
       "      <td>Protein</td>\n",
       "      <td>X-RAY DIFFRACTION</td>\n",
       "      <td>VAPOR DIFFUSION, HANGING DROP</td>\n",
       "      <td>7.5</td>\n",
       "      <td>296.00</td>\n",
       "      <td>80-120mM MgCl2, 8% glycerol, 10% PEG 3350, 100...</td>\n",
       "      <td>2016-03-10T00:00:00+0000</td>\n",
       "      <td>2023-09-27T00:00:00+0000</td>\n",
       "    </tr>\n",
       "    <tr>\n",
       "      <th>2</th>\n",
       "      <td>6IQ4</td>\n",
       "      <td>6</td>\n",
       "      <td>ATCAATATCCACCTGCAGATACTACCAAAAGTGTATTTGGAAACTG...</td>\n",
       "      <td>DNA</td>\n",
       "      <td>X-RAY DIFFRACTION</td>\n",
       "      <td>VAPOR DIFFUSION, HANGING DROP</td>\n",
       "      <td>6.0</td>\n",
       "      <td>291.15</td>\n",
       "      <td>manganese chloride, potassium chloride, potass...</td>\n",
       "      <td>2018-11-06T00:00:00+0000</td>\n",
       "      <td>2024-03-27T00:00:00+0000</td>\n",
       "    </tr>\n",
       "    <tr>\n",
       "      <th>3</th>\n",
       "      <td>4IQJ</td>\n",
       "      <td>4</td>\n",
       "      <td>MGSKLKFAHLHQHTQFSLLDGAAKLQDLLKWVKETTPEDPALAMTD...</td>\n",
       "      <td>Protein</td>\n",
       "      <td>X-RAY DIFFRACTION</td>\n",
       "      <td>VAPOR DIFFUSION, SITTING DROP</td>\n",
       "      <td>8.8</td>\n",
       "      <td>298.00</td>\n",
       "      <td>0.1 M TRIS pH 8.8, 18% (w/v) polyethylene glyc...</td>\n",
       "      <td>2013-01-11T00:00:00+0000</td>\n",
       "      <td>2023-09-20T00:00:00+0000</td>\n",
       "    </tr>\n",
       "    <tr>\n",
       "      <th>4</th>\n",
       "      <td>4IQW</td>\n",
       "      <td>1</td>\n",
       "      <td>HMSPSPVPGSQNVPAPAVKKISQYACQRRTTLNNYNQLFTDALDIL...</td>\n",
       "      <td>Protein</td>\n",
       "      <td>X-RAY DIFFRACTION</td>\n",
       "      <td>VAPOR DIFFUSION, HANGING DROP</td>\n",
       "      <td>6.0</td>\n",
       "      <td>293.00</td>\n",
       "      <td>20% PEG4000, 200 mM sodium formate, 100 mM MES...</td>\n",
       "      <td>2013-01-13T00:00:00+0000</td>\n",
       "      <td>2023-09-20T00:00:00+0000</td>\n",
       "    </tr>\n",
       "  </tbody>\n",
       "</table>\n",
       "</div>"
      ],
      "text/plain": [
       "  pdb_id  pe_index                                           sequence  \\\n",
       "0   5IQ6         1  MDVIGERIKRIKEEHNSTWHYDDENPYKTWAYHGSYEVKATGSASS...   \n",
       "1   5IQB         1  MEYRYDDNATNVKAMKYLIEHYFDNFKVDSIEIIGSGYDSVAYLVN...   \n",
       "2   6IQ4         6  ATCAATATCCACCTGCAGATACTACCAAAAGTGTATTTGGAAACTG...   \n",
       "3   4IQJ         4  MGSKLKFAHLHQHTQFSLLDGAAKLQDLLKWVKETTPEDPALAMTD...   \n",
       "4   4IQW         1  HMSPSPVPGSQNVPAPAVKKISQYACQRRTTLNNYNQLFTDALDIL...   \n",
       "\n",
       "  poly_type      struct_method                 crystal_method   ph    temp  \\\n",
       "0   Protein  X-RAY DIFFRACTION  VAPOR DIFFUSION, SITTING DROP  7.5  293.00   \n",
       "1   Protein  X-RAY DIFFRACTION  VAPOR DIFFUSION, HANGING DROP  7.5  296.00   \n",
       "2       DNA  X-RAY DIFFRACTION  VAPOR DIFFUSION, HANGING DROP  6.0  291.15   \n",
       "3   Protein  X-RAY DIFFRACTION  VAPOR DIFFUSION, SITTING DROP  8.8  298.00   \n",
       "4   Protein  X-RAY DIFFRACTION  VAPOR DIFFUSION, HANGING DROP  6.0  293.00   \n",
       "\n",
       "                                        pdbx_details  \\\n",
       "0  HEPES pH7.5, PAA (poly acrilic acid) 20%, MgCl...   \n",
       "1  80-120mM MgCl2, 8% glycerol, 10% PEG 3350, 100...   \n",
       "2  manganese chloride, potassium chloride, potass...   \n",
       "3  0.1 M TRIS pH 8.8, 18% (w/v) polyethylene glyc...   \n",
       "4  20% PEG4000, 200 mM sodium formate, 100 mM MES...   \n",
       "\n",
       "               deposit_date             revision_date  \n",
       "0  2016-03-10T00:00:00+0000  2024-05-08T00:00:00+0000  \n",
       "1  2016-03-10T00:00:00+0000  2023-09-27T00:00:00+0000  \n",
       "2  2018-11-06T00:00:00+0000  2024-03-27T00:00:00+0000  \n",
       "3  2013-01-11T00:00:00+0000  2023-09-20T00:00:00+0000  \n",
       "4  2013-01-13T00:00:00+0000  2023-09-20T00:00:00+0000  "
      ]
     },
     "execution_count": 197,
     "metadata": {},
     "output_type": "execute_result"
    }
   ],
   "source": [
    "df_pe = pd.read_csv(path)\n",
    "df_pe.head()"
   ]
  },
  {
   "cell_type": "markdown",
   "metadata": {},
   "source": [
    "# features in the data in the data\n",
    "* pdb_id - id of the entry \n",
    "* pe_index - id of the polymer entity (a sub-unit in an entry)\n",
    "* sequence - the sequence of a polymer entity\n",
    "* poly_type - type of polymeric entity\n",
    "* struct_method - method used to detrmine the crystal structure \n",
    "* crystal_method - method used to create the structure\n",
    "* ph - pH in the buffer durring crystallization\n",
    "* temp - temperature (in K) in the buffer durring crystallization\n",
    "* pdbx_details - free text describing the crystallization process and the buffer reagents.\n",
    "* deposit_date - date of structure deposit in the PDB.\n",
    "* revision_date - date of last revision of the entry in the PDB.\n",
    "\n"
   ]
  },
  {
   "cell_type": "markdown",
   "metadata": {},
   "source": [
    "# PDB structure, \"entry\" and \"polymer entity\"\n",
    "A single PDB structure (AKA entry) can have multiple separate polymeric subunits (AKA polymer entities).\n",
    "\n",
    "Poly entities of the same PDB entry will have exactly same info in all features except 'pe_index', 'sequence' and 'poly_type' \n",
    "\n",
    "this is because all entities of a single entry were crystalize together in the same assay."
   ]
  },
  {
   "cell_type": "code",
   "execution_count": 198,
   "metadata": {},
   "outputs": [
    {
     "data": {
      "text/html": [
       "<div>\n",
       "<style scoped>\n",
       "    .dataframe tbody tr th:only-of-type {\n",
       "        vertical-align: middle;\n",
       "    }\n",
       "\n",
       "    .dataframe tbody tr th {\n",
       "        vertical-align: top;\n",
       "    }\n",
       "\n",
       "    .dataframe thead th {\n",
       "        text-align: right;\n",
       "    }\n",
       "</style>\n",
       "<table border=\"1\" class=\"dataframe\">\n",
       "  <thead>\n",
       "    <tr style=\"text-align: right;\">\n",
       "      <th></th>\n",
       "      <th>pdb_id</th>\n",
       "      <th>struct_method</th>\n",
       "      <th>crystal_method</th>\n",
       "      <th>ph</th>\n",
       "      <th>temp</th>\n",
       "      <th>pdbx_details</th>\n",
       "      <th>deposit_date</th>\n",
       "      <th>revision_date</th>\n",
       "    </tr>\n",
       "  </thead>\n",
       "  <tbody>\n",
       "    <tr>\n",
       "      <th>0</th>\n",
       "      <td>5IQ6</td>\n",
       "      <td>X-RAY DIFFRACTION</td>\n",
       "      <td>VAPOR DIFFUSION, SITTING DROP</td>\n",
       "      <td>7.5</td>\n",
       "      <td>293.00</td>\n",
       "      <td>HEPES pH7.5, PAA (poly acrilic acid) 20%, MgCl...</td>\n",
       "      <td>2016-03-10T00:00:00+0000</td>\n",
       "      <td>2024-05-08T00:00:00+0000</td>\n",
       "    </tr>\n",
       "    <tr>\n",
       "      <th>1</th>\n",
       "      <td>5IQB</td>\n",
       "      <td>X-RAY DIFFRACTION</td>\n",
       "      <td>VAPOR DIFFUSION, HANGING DROP</td>\n",
       "      <td>7.5</td>\n",
       "      <td>296.00</td>\n",
       "      <td>80-120mM MgCl2, 8% glycerol, 10% PEG 3350, 100...</td>\n",
       "      <td>2016-03-10T00:00:00+0000</td>\n",
       "      <td>2023-09-27T00:00:00+0000</td>\n",
       "    </tr>\n",
       "    <tr>\n",
       "      <th>2</th>\n",
       "      <td>6IQ4</td>\n",
       "      <td>X-RAY DIFFRACTION</td>\n",
       "      <td>VAPOR DIFFUSION, HANGING DROP</td>\n",
       "      <td>6.0</td>\n",
       "      <td>291.15</td>\n",
       "      <td>manganese chloride, potassium chloride, potass...</td>\n",
       "      <td>2018-11-06T00:00:00+0000</td>\n",
       "      <td>2024-03-27T00:00:00+0000</td>\n",
       "    </tr>\n",
       "    <tr>\n",
       "      <th>3</th>\n",
       "      <td>4IQJ</td>\n",
       "      <td>X-RAY DIFFRACTION</td>\n",
       "      <td>VAPOR DIFFUSION, SITTING DROP</td>\n",
       "      <td>8.8</td>\n",
       "      <td>298.00</td>\n",
       "      <td>0.1 M TRIS pH 8.8, 18% (w/v) polyethylene glyc...</td>\n",
       "      <td>2013-01-11T00:00:00+0000</td>\n",
       "      <td>2023-09-20T00:00:00+0000</td>\n",
       "    </tr>\n",
       "    <tr>\n",
       "      <th>4</th>\n",
       "      <td>4IQW</td>\n",
       "      <td>X-RAY DIFFRACTION</td>\n",
       "      <td>VAPOR DIFFUSION, HANGING DROP</td>\n",
       "      <td>6.0</td>\n",
       "      <td>293.00</td>\n",
       "      <td>20% PEG4000, 200 mM sodium formate, 100 mM MES...</td>\n",
       "      <td>2013-01-13T00:00:00+0000</td>\n",
       "      <td>2023-09-20T00:00:00+0000</td>\n",
       "    </tr>\n",
       "    <tr>\n",
       "      <th>...</th>\n",
       "      <td>...</td>\n",
       "      <td>...</td>\n",
       "      <td>...</td>\n",
       "      <td>...</td>\n",
       "      <td>...</td>\n",
       "      <td>...</td>\n",
       "      <td>...</td>\n",
       "      <td>...</td>\n",
       "    </tr>\n",
       "    <tr>\n",
       "      <th>291874</th>\n",
       "      <td>3L9V</td>\n",
       "      <td>X-RAY DIFFRACTION</td>\n",
       "      <td>VAPOR DIFFUSION, HANGING DROP</td>\n",
       "      <td>7.0</td>\n",
       "      <td>293.00</td>\n",
       "      <td>1.45M sodium malonate, 0.5% (w/v) Jeffamine ED...</td>\n",
       "      <td>2010-01-05T00:00:00+0000</td>\n",
       "      <td>2017-11-01T00:00:00+0000</td>\n",
       "    </tr>\n",
       "    <tr>\n",
       "      <th>291875</th>\n",
       "      <td>7L9Q</td>\n",
       "      <td>X-RAY DIFFRACTION</td>\n",
       "      <td>VAPOR DIFFUSION, HANGING DROP</td>\n",
       "      <td>8.6</td>\n",
       "      <td>298.00</td>\n",
       "      <td>23% PEG3350, 100 mM Tris-HCl, pH 8.6, 200 mM m...</td>\n",
       "      <td>2021-01-04T00:00:00+0000</td>\n",
       "      <td>2023-10-18T00:00:00+0000</td>\n",
       "    </tr>\n",
       "    <tr>\n",
       "      <th>291876</th>\n",
       "      <td>4L9D</td>\n",
       "      <td>X-RAY DIFFRACTION</td>\n",
       "      <td>VAPOR DIFFUSION, HANGING DROP</td>\n",
       "      <td>5.5</td>\n",
       "      <td>291.00</td>\n",
       "      <td>1.2 M sodium citrate and 20% (w/v) PEG 8K, pH ...</td>\n",
       "      <td>2013-06-18T00:00:00+0000</td>\n",
       "      <td>2024-02-28T00:00:00+0000</td>\n",
       "    </tr>\n",
       "    <tr>\n",
       "      <th>291877</th>\n",
       "      <td>1L96</td>\n",
       "      <td>X-RAY DIFFRACTION</td>\n",
       "      <td>NaN</td>\n",
       "      <td>NaN</td>\n",
       "      <td>NaN</td>\n",
       "      <td>NaN</td>\n",
       "      <td>1992-02-11T00:00:00+0000</td>\n",
       "      <td>2024-02-14T00:00:00+0000</td>\n",
       "    </tr>\n",
       "    <tr>\n",
       "      <th>291879</th>\n",
       "      <td>1L95</td>\n",
       "      <td>X-RAY DIFFRACTION</td>\n",
       "      <td>NaN</td>\n",
       "      <td>NaN</td>\n",
       "      <td>NaN</td>\n",
       "      <td>NaN</td>\n",
       "      <td>1992-01-21T00:00:00+0000</td>\n",
       "      <td>2024-02-14T00:00:00+0000</td>\n",
       "    </tr>\n",
       "  </tbody>\n",
       "</table>\n",
       "<p>188770 rows × 8 columns</p>\n",
       "</div>"
      ],
      "text/plain": [
       "       pdb_id      struct_method                 crystal_method   ph    temp  \\\n",
       "0        5IQ6  X-RAY DIFFRACTION  VAPOR DIFFUSION, SITTING DROP  7.5  293.00   \n",
       "1        5IQB  X-RAY DIFFRACTION  VAPOR DIFFUSION, HANGING DROP  7.5  296.00   \n",
       "2        6IQ4  X-RAY DIFFRACTION  VAPOR DIFFUSION, HANGING DROP  6.0  291.15   \n",
       "3        4IQJ  X-RAY DIFFRACTION  VAPOR DIFFUSION, SITTING DROP  8.8  298.00   \n",
       "4        4IQW  X-RAY DIFFRACTION  VAPOR DIFFUSION, HANGING DROP  6.0  293.00   \n",
       "...       ...                ...                            ...  ...     ...   \n",
       "291874   3L9V  X-RAY DIFFRACTION  VAPOR DIFFUSION, HANGING DROP  7.0  293.00   \n",
       "291875   7L9Q  X-RAY DIFFRACTION  VAPOR DIFFUSION, HANGING DROP  8.6  298.00   \n",
       "291876   4L9D  X-RAY DIFFRACTION  VAPOR DIFFUSION, HANGING DROP  5.5  291.00   \n",
       "291877   1L96  X-RAY DIFFRACTION                            NaN  NaN     NaN   \n",
       "291879   1L95  X-RAY DIFFRACTION                            NaN  NaN     NaN   \n",
       "\n",
       "                                             pdbx_details  \\\n",
       "0       HEPES pH7.5, PAA (poly acrilic acid) 20%, MgCl...   \n",
       "1       80-120mM MgCl2, 8% glycerol, 10% PEG 3350, 100...   \n",
       "2       manganese chloride, potassium chloride, potass...   \n",
       "3       0.1 M TRIS pH 8.8, 18% (w/v) polyethylene glyc...   \n",
       "4       20% PEG4000, 200 mM sodium formate, 100 mM MES...   \n",
       "...                                                   ...   \n",
       "291874  1.45M sodium malonate, 0.5% (w/v) Jeffamine ED...   \n",
       "291875  23% PEG3350, 100 mM Tris-HCl, pH 8.6, 200 mM m...   \n",
       "291876  1.2 M sodium citrate and 20% (w/v) PEG 8K, pH ...   \n",
       "291877                                                NaN   \n",
       "291879                                                NaN   \n",
       "\n",
       "                    deposit_date             revision_date  \n",
       "0       2016-03-10T00:00:00+0000  2024-05-08T00:00:00+0000  \n",
       "1       2016-03-10T00:00:00+0000  2023-09-27T00:00:00+0000  \n",
       "2       2018-11-06T00:00:00+0000  2024-03-27T00:00:00+0000  \n",
       "3       2013-01-11T00:00:00+0000  2023-09-20T00:00:00+0000  \n",
       "4       2013-01-13T00:00:00+0000  2023-09-20T00:00:00+0000  \n",
       "...                          ...                       ...  \n",
       "291874  2010-01-05T00:00:00+0000  2017-11-01T00:00:00+0000  \n",
       "291875  2021-01-04T00:00:00+0000  2023-10-18T00:00:00+0000  \n",
       "291876  2013-06-18T00:00:00+0000  2024-02-28T00:00:00+0000  \n",
       "291877  1992-02-11T00:00:00+0000  2024-02-14T00:00:00+0000  \n",
       "291879  1992-01-21T00:00:00+0000  2024-02-14T00:00:00+0000  \n",
       "\n",
       "[188770 rows x 8 columns]"
      ]
     },
     "execution_count": 198,
     "metadata": {},
     "output_type": "execute_result"
    }
   ],
   "source": [
    "#we will get a df of entries alone \n",
    "cols = list(df.columns)\n",
    "cols = [col for col in cols if col not in ('pe_index', 'sequence', 'poly_type')]\n",
    "df_entries = df_pe[cols].drop_duplicates()\n",
    "df_entries"
   ]
  },
  {
   "cell_type": "code",
   "execution_count": 199,
   "metadata": {},
   "outputs": [
    {
     "name": "stdout",
     "output_type": "stream",
     "text": [
      "In total the data contains 188770 PDB structures (entries) that are made of 291880 polymer entities\n"
     ]
    }
   ],
   "source": [
    "print(f\"In total the data contains {df_entries.shape[0]} PDB structures (entries) that are made of {df_pe.shape[0]} polymer entities\")"
   ]
  },
  {
   "cell_type": "code",
   "execution_count": 40,
   "metadata": {},
   "outputs": [
    {
     "name": "stdout",
     "output_type": "stream",
     "text": [
      "struct_method\n",
      "ELECTRON CRYSTALLOGRAPHY         3\n",
      "ELECTRON MICROSCOPY            345\n",
      "FIBER DIFFRACTION               30\n",
      "NEUTRON DIFFRACTION             40\n",
      "POWDER DIFFRACTION              21\n",
      "SOLID-STATE NMR                 13\n",
      "SOLUTION NMR                   205\n",
      "SOLUTION SCATTERING             21\n",
      "X-RAY DIFFRACTION           188092\n",
      "dtype: int64\n"
     ]
    }
   ],
   "source": [
    "# The data was filter for X-DAY only when fetching. yet - we want to validate it\n",
    "print(df_entries.groupby('struct_method').size())"
   ]
  },
  {
   "cell_type": "code",
   "execution_count": 200,
   "metadata": {},
   "outputs": [],
   "source": [
    "#let filter out all the nonX-ray data\n",
    "df_pe = df_pe.query('struct_method == \"X-RAY DIFFRACTION\"')\n",
    "df_entries = df_entries.query('struct_method == \"X-RAY DIFFRACTION\"')\n"
   ]
  },
  {
   "cell_type": "code",
   "execution_count": 201,
   "metadata": {},
   "outputs": [
    {
     "data": {
      "text/plain": [
       "poly_type\n",
       "DNA           15101\n",
       "NA-hybrid       218\n",
       "Other             6\n",
       "Protein      268067\n",
       "RNA            6529\n",
       "dtype: int64"
      ]
     },
     "execution_count": 201,
     "metadata": {},
     "output_type": "execute_result"
    }
   ],
   "source": [
    "#while most crystallization data is for Proteins, some structures contain also DNA and RNA. For the sake of this model we prefer to leave does out.\n",
    "#lets see their fraction in the data\n",
    "df_pe.groupby('poly_type').size()"
   ]
  },
  {
   "cell_type": "code",
   "execution_count": 202,
   "metadata": {},
   "outputs": [
    {
     "name": "stdout",
     "output_type": "stream",
     "text": [
      "out of 188092 structures, 176361 contains proteins only\n"
     ]
    }
   ],
   "source": [
    "mixed_ids = set(df_pe.query('poly_type != \"Protein\"').pdb_id)\n",
    "proteins_only_ids = set([id for id in df_pe.pdb_id if id not in mixed_ids])\n",
    "print(f'out of {len(df_entries)} structures, {len(proteins_only_ids)} contains proteins only')\n",
    "\n"
   ]
  },
  {
   "cell_type": "code",
   "execution_count": 203,
   "metadata": {},
   "outputs": [],
   "source": [
    "#for the sake of our analysis will use proteins-only structures\n",
    "df_pe = df_pe[df_pe.pdb_id.isin(proteins_only_ids)]\n",
    "df_entries = df_entries[df_entries.pdb_id.isin(proteins_only_ids)]"
   ]
  },
  {
   "cell_type": "code",
   "execution_count": 204,
   "metadata": {},
   "outputs": [
    {
     "data": {
      "text/plain": [
       "0\n",
       "1     142352\n",
       "2      23783\n",
       "3       6875\n",
       "4       1791\n",
       "5        675\n",
       "6        146\n",
       "7         60\n",
       "8         35\n",
       "9         10\n",
       "10        40\n",
       "11        33\n",
       "12        24\n",
       "13        85\n",
       "14       263\n",
       "15        65\n",
       "16        16\n",
       "17         3\n",
       "18         6\n",
       "19        13\n",
       "20        83\n",
       "22         1\n",
       "48         2\n",
       "dtype: int64"
      ]
     },
     "execution_count": 204,
     "metadata": {},
     "output_type": "execute_result"
    },
    {
     "data": {
      "image/png": "[encoded data removed]",
      "text/plain": [
       "<Figure size 1000x500 with 2 Axes>"
      ]
     },
     "metadata": {},
     "output_type": "display_data"
    }
   ],
   "source": [
    "#lets explore how many separate chains per structure - meaning how many polymer entities per pdb_id\n",
    "n_chains = df_pe.groupby('pdb_id').size()\n",
    "\n",
    "fig, axes = plt.subplots(1,2, figsize=[10,5])\n",
    "\n",
    "ax = axes[0]\n",
    "ax.hist(n_chains, bins=50);\n",
    "ax.set_xlabel('n chains in structure')\n",
    "ax.set_ylabel('count')\n",
    "\n",
    "#calculate cumsum the histogram data for counting number of pdb_id with x chains\n",
    "cumsum = n_chains.to_frame().reset_index().groupby(0).size().cumsum()\n",
    "cumsum = pd.concat([pd.Series((0)), cumsum]) #add dummy zero\n",
    "cumsum /= cumsum.iloc[-1]\n",
    "\n",
    "ax = axes[1]\n",
    " \n",
    "ax.plot(cumsum)\n",
    "ax.set_xlabel('n chains in structure')\n",
    "ax.set_ylabel('% of total data - cumulative')\n",
    "\n",
    "# ax.hlines([0.8, 0.99], 0, 50, color='red', linestyles='--')\n",
    "ax.vlines([1, 4], [0, 0], [0.8, 0.99], color='red', linestyles='--')\n",
    "ax.text(1, 0.81, '80%')\n",
    "ax.text(4 ,1, '99%')\n",
    "ax.set_xlim([0,10])\n",
    "\n",
    "fig.suptitle('number of chains per PDB structure')\n",
    "\n",
    "n_chains.to_frame().reset_index().groupby(0).size()"
   ]
  },
  {
   "cell_type": "markdown",
   "metadata": {},
   "source": [
    "As seen in the above figure, 80% have single chain, and 99% has 5 chains or less.\n",
    "\n",
    "We will start by training a model for structures with a single chain only.\n",
    "\n",
    "Later on a model that take more than one chain can be trained."
   ]
  },
  {
   "cell_type": "code",
   "execution_count": 205,
   "metadata": {},
   "outputs": [],
   "source": [
    "#filter for single chains\n",
    "s = df_pe.groupby('pdb_id').size()\n",
    "singles_ids = set(s[s == 1].index)\n",
    "df_pe = df_pe[df_pe.pdb_id.isin(singles_ids)]\n",
    "df_entries = df_entries[df_entries.pdb_id.isin(singles_ids)]\n",
    "\n",
    "\n"
   ]
  },
  {
   "cell_type": "markdown",
   "metadata": {},
   "source": [
    "As a POC, we want to train a model that predicts pH and Temp alone\n",
    "\n",
    "Lets see how these features look like\n",
    "\n"
   ]
  },
  {
   "cell_type": "code",
   "execution_count": 206,
   "metadata": {},
   "outputs": [
    {
     "name": "stdout",
     "output_type": "stream",
     "text": [
      "There are 34564 our of 142352 entries\n"
     ]
    },
    {
     "data": {
      "image/png": "[encoded data removed]",
      "text/plain": [
       "<Figure size 1000x500 with 2 Axes>"
      ]
     },
     "metadata": {},
     "output_type": "display_data"
    }
   ],
   "source": [
    "fig,axes = plt.subplots(1, 2, figsize=[10,5])\n",
    "\n",
    "y = df_entries[df_entries.ph.notna()].ph\n",
    "\n",
    "ax = axes[0]\n",
    "ax.boxplot(y);\n",
    "\n",
    "print(f'There are {len(df_entries[df_entries.ph.isna()])} our of {len(df_entries)} entries')"
   ]
  },
  {
   "cell_type": "markdown",
   "metadata": {},
   "source": [
    "# PH\n",
    "some pH values are extreme (0.1, 12) but manual validation of few ids (5S44, 5S47, 5S4B,4BIN ) shows these are genuine.\n",
    "\n"
   ]
  },
  {
   "cell_type": "code",
   "execution_count": 211,
   "metadata": {},
   "outputs": [
    {
     "name": "stdout",
     "output_type": "stream",
     "text": [
      "100 mM imidazole, 35% MPD, 200 mM magnesium chloride\n",
      "0.2 M sodium acetate, 0.1 M Bis-Tris propane (pH 6.5) and 20% (w/v) PEG 3350\n",
      "0.1 M SPG buffer pH 8.0 and 25% PEG 1500\n",
      "100 mM imidazole, 15%(v/v) reagent alcohol, 200 mM magnesium chloride\n",
      "100mM sodium citrate, 30% PEG 400, VAPOR DIFFUSION, HANGING DROP, temperature 293K\n",
      "20% PEG 3350, 0.1 M Bis-tris pH 5.5, 0.1 M sodium acetate pH 4.5\n",
      "20% PEG 3350, 0.1 M Bis-tris pH 5.5, 0.1 M sodium acetate pH 4.5\n",
      "0.1M sodium acetate (pH 5.0), 1.42M ammonium sulfate\n",
      "pH7.4, PEG 8000, ethylene glycol, HEPES, CHPAS\n",
      "PEG3350, sodium thyocinate\n",
      "VAPOR DIFFUSION, HANGING DROP, temperature 297K\n",
      "100 mM Tris, pH9.0, 1.0 M NaCl\n",
      "14-26 % PEG 750MME, SODIUM ACETATE, pH 4.6-5.2, VAPOR DIFFUSION, HANGING DROP, temperature 293K\n",
      "20% PEG 3350, 0.1 M Bis-tris pH 5.5, 0.1 M sodium acetate pH 4.5\n",
      "25% PEG 4000, 150 mM amimonium sulfate and 100 mM MES, pH 5.5\n",
      "0.1 M Sodium Acetate, 0.1 M HEPES-NaOH pH 7.5, 22 % (w/v) PEG 4000, 4.4 % (v/v) Formamide\n",
      "0.1 M Bis-Tris propane pH 8.5, 20% PEG 3350 and 0.2 M Sodium iodide\n",
      "0.1 M Bicine pH 9.0, 22 % PEG-6000\n",
      "0.1M MES, 1.2-1.6M ammonium sulfate, pH 6.5\n",
      "100 mM imidazole, 15%(v/v) reagent alcohol, 200 mM magnesium chloride, 2.0 mM nickel chloride\n",
      "0.2M Ammonium sulfate, 0.1M BIS-TRIS pH 6.5, 25% w/v Polyethylene glycol 3350\n",
      "0.1 M Bicine pH 9.0, 10% PEG-4000, 10% polyacrylic acid 2100 sodium salt\n",
      "0.1 M Bicine pH 9.0, 22% PEG-6000\n",
      "0.1M MES, pH6.5, 1.2-1.6M ammonium sulfate\n",
      "30 mM Tris (pH 8.5), 140 mM sodium citrate, 60 mM ammonium phosphate monobasic, 15% w/v (+/-)-2-methyl-2,4-pentanediol, and 14% (w/v) polyethylene glycol 3350\n",
      "nan\n",
      "0.2 M ammonium tartrate dibasic (pH 7.0), 20% (w/v) PEG 3350\n",
      "100 mM imidazole (pH 8.0), 15%(v/v) reagent alcohol, 200 mM magnesium chloride\n",
      "0.1M MES pH 5.5, 12% (w/v) PEG 8000, 0.1M calcium acetate\n",
      "0.1M Tris HCl (pH 8.5), 2.2M ammonium phosphate dibasic\n",
      "0.1 M Bis-Tris propane pH 7.5, 25% PEG 3350 and 0.2 M Sodium citrate\n",
      "20% PEG 3350, 0.1 M Bis-tris pH 5.5, 0.1 M sodium acetate pH 4.5\n",
      "0.2 M sodium acetate, 0.1 M Bis-Tris propane (pH 6.5) and 20% (w/v) PEG 3350. The Y207S soaking crystals were obtained using crystals of Y207S soaked with 15 mM TMA for 15 min.\n",
      "0.1M MES PH 5.5, 12% (W/V) PEG 8000, 0.1M CALCIUM ACETATE, VAPOR DIFFUSION, SITTING DROP, TEMPERATURE 293K\n",
      "50 mM Ammonium sulfate, 50 mM Bis-tris pH 6.5, 30 % Pentaerythritol ethoxylate, VAPOR DIFFUSION, SITTING DROP, temperature 291K\n",
      "0.2 M magnesium acetate, 0.1 M sodium cacodylate [pH 6.5], 20% PEG 8000; 20% PEG 3350, 0.2 M magnesium acetate\n",
      "0.15 M KBr, 30 % w/v PEG 2000 MME\n",
      "The reservoir contained 0.1 M magnesium formate dihydrate, 15% w/v PEG 3350 and 0.1 M Hepes.  The enzyme stock solution included 3 mg/mL ALDH7A1, 200 micromolar 4-diethyaminobenzaldehyde and 5 mM NAD+.\n",
      "KCl, Tris, PEG3350\n",
      "0.2M Magnesium acetate  20% PEG 3350, VAPOR DIFFUSION, HANGING DROP, temperature 295K\n",
      "PEG 3350, Sodium formate\n",
      "0.1 M SPG buffer (0.0125 M succinic acid, 0.0438 M sodium phosphate, 0.0437 M glycine), 12%-18% (v/v) PEG 1500, pH 5.0-5.5\n",
      "VAPOR DIFFUSION, HANGING DROP\n",
      "18% PEG3350, 200 mM lithium sulfate, 0.7 mM cadmium chloride, 100 mM Bis-Tris, pH 6.3\n",
      "Reservoir contained 0.2 M MgCl2, 25% (w/v) PEG3350, 0.1 M Tris at pH of 8.2, 1% DMSO, 200 micromolar 4-diethylaminobenzaldehyde.  Protein stock solution contained 3 mg/mL ALDH7A1 and 200 micromolar DEAB.\n",
      "2% Tacsimate pH 4.0, 0.1 M sodium acetate trihydrate pH 4.6, 16% w/v Polyethylene glycol 3350\n",
      "4.0M NA FORMATE WITH 20% GLYCEROL AS A CRYOPROTECTANT\n",
      "1.2-1.5M magnesium sulfate, 0.1M MES buffer\n",
      "0.2 M AMMONIUM SULFATE, 0.1 M SODIUM CACODYLATE PH 6.5 AND 30 % PEG 8000 AND GAMMA-BUTYROLACTONE\n",
      "15/23% PEG 1000, 100mM Lithium sulfate, 50mM citric acid, 50mM Disodium phosphate\n",
      "0.2 M zinc acetate, 16% w/v polyethylene glycol 3350\n",
      "0.2 MM MG FORMATE, 20% PEG3350, 293K\n"
     ]
    }
   ],
   "source": [
    "#lets fill the missing ph values by extracting the from the verbal description\n",
    "\n",
    "\n",
    "def extract1(s):\n",
    "    pass\n",
    "\n",
    "df = df_entries[df_entries.ph.isna()]\n",
    "\n",
    "\n",
    "    \n",
    "\n",
    "\n",
    "for i, x in enumerate(df.pdbx_details):\n",
    "    print(x)\n",
    "    if i > 50: break\n",
    "\n"
   ]
  },
  {
   "cell_type": "code",
   "execution_count": 217,
   "metadata": {},
   "outputs": [
    {
     "data": {
      "text/plain": [
       "['.5']"
      ]
     },
     "execution_count": 217,
     "metadata": {},
     "output_type": "execute_result"
    }
   ],
   "source": [
    "s = '0.2 M AMMONIUM SULFATE, 0.1 M SODIUM CACODYLATE PH 6.5 AND 30 % PEG 8000 AND GAMMA-BUTYROLACTONE'.lower()\n",
    "re.findall(r'ph\\s*\\d(.\\d)*', s)"
   ]
  }
 ],
 "metadata": {
  "kernelspec": {
   "display_name": "crystoEnv",
   "language": "python",
   "name": "python3"
  },
  "language_info": {
   "codemirror_mode": {
    "name": "ipython",
    "version": 3
   },
   "file_extension": ".py",
   "mimetype": "text/x-python",
   "name": "python",
   "nbconvert_exporter": "python",
   "pygments_lexer": "ipython3",
   "version": "3.10.13"
  }
 },
 "nbformat": 4,
 "nbformat_minor": 2
}
