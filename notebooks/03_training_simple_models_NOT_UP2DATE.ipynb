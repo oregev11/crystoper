{
 "cells": [
  {
   "cell_type": "markdown",
   "metadata": {},
   "source": [
    "# Training simplistic models\n",
    "The exact conditions for protein crystallization include pH, Temperature, protein concentration, physical setup and buffer ingredients and concentrations. \n",
    "A proper combination of all of the above will result in crystallization, but the space of possibilities for conditions is immense.\n",
    "As a POC, we will train a simple model to predict crystallization conditions separately.  \n",
    "\n",
    "Important: (This is done for POC, While the biochemical meaning of predicting temperature or pH by themselves without the buffer is very limited.)"
   ]
  },
  {
   "cell_type": "code",
   "execution_count": 1,
   "metadata": {},
   "outputs": [],
   "source": [
    "import numpy as np\n",
    "import pandas as pd\n",
    "import matplotlib.pyplot as plt\n",
    "import seaborn as sns\n",
    "import re\n",
    "\n",
    "from sklearn.model_selection import train_test_split\n",
    "from sklearn.linear_model import LinearRegression\n",
    "from sklearn.tree import DecisionTreeRegressor\n",
    "from sklearn.ensemble import RandomForestRegressor, GradientBoostingRegressor\n",
    "from sklearn.metrics import mean_squared_error, mean_absolute_error, r2_score\n",
    "\n",
    "VEC_COLS = list(np.arange(1280))\n",
    "ENTRY_COLS = ['pdb_id', 'struct_method', 'crystal_method', 'ph', 'temp', 'pdbx_details', 'deposit_date', 'revision_date']\n"
   ]
  },
  {
   "cell_type": "code",
   "execution_count": 2,
   "metadata": {},
   "outputs": [],
   "source": [
    "#load the pdb data\n",
    "df = pd.read_csv('../data/pdb_data/processed_data.csv')\n",
    "df.shape\n",
    "\n",
    "#Load the ESM vectors were generated using crystoper/vectorize.py\n",
    "vec_path = '../vectors/sequences/esm2.npy'\n",
    "vectors = pd.DataFrame(np.load(vec_path))"
   ]
  },
  {
   "cell_type": "code",
   "execution_count": 5,
   "metadata": {},
   "outputs": [],
   "source": [
    "#concat vectors to df\n",
    "df = pd.concat([df, vectors], axis=1)\n",
    "del vectors\n",
    "\n",
    "df_vecs = df[['pdb_id'] + VEC_COLS]\n",
    "df = df[ENTRY_COLS]"
   ]
  },
  {
   "cell_type": "code",
   "execution_count": 6,
   "metadata": {},
   "outputs": [],
   "source": [
    "#count entities, avarage vectors and create a new df\n",
    "avg = df_vecs.groupby('pdb_id')[VEC_COLS].sum().reset_index()\n",
    "\n",
    "counts = df_vecs[['pdb_id']].groupby('pdb_id').size().reset_index()\n",
    "counts.columns = ['pdb_id', 'n_entities']\n",
    "\n",
    "df = df[ENTRY_COLS].drop_duplicates().merge(counts, how='left').merge(avg, how='left')\n",
    "\n",
    "del avg\n",
    "del counts\n"
   ]
  },
  {
   "cell_type": "markdown",
   "metadata": {},
   "source": [
    " # pH predicting model    "
   ]
  },
  {
   "cell_type": "code",
   "execution_count": 7,
   "metadata": {},
   "outputs": [
    {
     "name": "stdout",
     "output_type": "stream",
     "text": [
      "Using 154949 not-Nan pH records out of total 169048 records (91.66%) \n"
     ]
    }
   ],
   "source": [
    "m = df.ph.notna()\n",
    "\n",
    "print(f'Using {m.sum()} not-Nan pH records out of total {len(df)} records ({100*m.sum() / len(df):.2f}%) ' )"
   ]
  },
  {
   "cell_type": "code",
   "execution_count": 8,
   "metadata": {},
   "outputs": [],
   "source": [
    "X = df[VEC_COLS][m]\n",
    "y = df.ph[m]\n",
    "\n",
    "TEST_SIZE = 0.3\n",
    "\n",
    "X_train, X_test, y_train, y_test = train_test_split(X, y, test_size=TEST_SIZE, random_state=42)"
   ]
  },
  {
   "cell_type": "code",
   "execution_count": 9,
   "metadata": {},
   "outputs": [],
   "source": [
    "def evaluate_model(y_true, y_pred):\n",
    "    mse = mean_squared_error(y_true, y_pred)\n",
    "    mae = mean_absolute_error(y_true, y_pred)\n",
    "    r2 = r2_score(y_true, y_pred)\n",
    "    print(f\"Mean Squared Error: {mse}\")\n",
    "    print(f\"Mean Absolute Error: {mae}\")\n",
    "    print(f\"R² Score: {r2}\\n\")"
   ]
  },
  {
   "cell_type": "code",
   "execution_count": null,
   "metadata": {},
   "outputs": [
    {
     "name": "stdout",
     "output_type": "stream",
     "text": [
      "Linear Regression:\n",
      "Mean Squared Error: 1.5783552094644542\n",
      "Mean Absolute Error: 1.000605664363712\n",
      "R² Score: 0.04429993479285299\n",
      "\n",
      "Gradient Boosting Regressor:\n"
     ]
    }
   ],
   "source": [
    "# 5.1: Linear Regression\n",
    "print(\"Linear Regression:\")\n",
    "lin_reg = LinearRegression()\n",
    "lin_reg.fit(X_train, y_train)\n",
    "y_pred = lin_reg.predict(X_test)\n",
    "evaluate_model(y_test, y_pred)\n",
    "\n",
    "# 5.2: Decision Tree Regressor\n",
    "# print(\"Decision Tree Regressor:\")\n",
    "# dt_reg = DecisionTreeRegressor(random_state=42)\n",
    "# dt_reg.fit(X_train, y_train)\n",
    "# y_pred = dt_reg.predict(X_test)\n",
    "# evaluate_model(y_test, y_pred)\n",
    "\n",
    "# # 5.3: Random Forest Regressor\n",
    "# print(\"Random Forest Regressor:\")\n",
    "# rf_reg = RandomForestRegressor(n_estimators=100, random_state=42)\n",
    "# rf_reg.fit(X_train, y_train)\n",
    "# y_pred = rf_reg.predict(X_test)\n",
    "# evaluate_model(y_test, y_pred)\n",
    "\n",
    "# 5.4: Gradient Boosting Regressor\n",
    "print(\"Gradient Boosting Regressor:\")\n",
    "gb_reg = GradientBoostingRegressor(n_estimators=100, random_state=42)\n",
    "gb_reg.fit(X_train, y_train)\n",
    "y_pred = gb_reg.predict(X_test)\n",
    "evaluate_model(y_test, y_pred)"
   ]
  },
  {
   "cell_type": "code",
   "execution_count": null,
   "metadata": {},
   "outputs": [],
   "source": []
  },
  {
   "cell_type": "code",
   "execution_count": null,
   "metadata": {},
   "outputs": [],
   "source": []
  },
  {
   "cell_type": "code",
   "execution_count": null,
   "metadata": {},
   "outputs": [],
   "source": []
  }
 ],
 "metadata": {
  "kernelspec": {
   "display_name": "crystoEnv",
   "language": "python",
   "name": "python3"
  },
  "language_info": {
   "codemirror_mode": {
    "name": "ipython",
    "version": 3
   },
   "file_extension": ".py",
   "mimetype": "text/x-python",
   "name": "python",
   "nbconvert_exporter": "python",
   "pygments_lexer": "ipython3",
   "version": "3.10.13"
  }
 },
 "nbformat": 4,
 "nbformat_minor": 2
}
