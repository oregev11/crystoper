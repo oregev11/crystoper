{
 "cells": [
  {
   "cell_type": "markdown",
   "metadata": {},
   "source": [
    "# Extracting embbeded vectors of pdbx_details"
   ]
  },
  {
   "cell_type": "code",
   "execution_count": 20,
   "metadata": {},
   "outputs": [],
   "source": [
    "import numpy as np\n",
    "import pandas as pd\n",
    "import matplotlib.pyplot as plt"
   ]
  },
  {
   "cell_type": "code",
   "execution_count": 28,
   "metadata": {},
   "outputs": [],
   "source": [
    "\n",
    "\n",
    "logging.info('hi')"
   ]
  },
  {
   "cell_type": "code",
   "execution_count": 25,
   "metadata": {},
   "outputs": [],
   "source": [
    "pd.DataFrame([{'b': 9}]).to_csv('temp.csv', mode='a')"
   ]
  },
  {
   "cell_type": "code",
   "execution_count": 16,
   "metadata": {},
   "outputs": [],
   "source": [
    "path = '/home/ofir/ofir_code/crystoper/data/pdb_data/processed_data.csv'\n",
    "df = pd.read_csv(path)"
   ]
  },
  {
   "cell_type": "code",
   "execution_count": 17,
   "metadata": {},
   "outputs": [
    {
     "data": {
      "text/plain": [
       "[<matplotlib.lines.Line2D at 0x7fe83c9ab880>]"
      ]
     },
     "execution_count": 17,
     "metadata": {},
     "output_type": "execute_result"
    },
    {
     "data": {
      "image/png": "[encoded data removed]",
      "text/plain": [
       "<Figure size 640x480 with 1 Axes>"
      ]
     },
     "metadata": {},
     "output_type": "display_data"
    }
   ],
   "source": [
    "cumsum = df.pdbx_details.str.len().value_counts().sort_index().cumsum() / len(df)\n",
    "plt.plot(cumsum)"
   ]
  },
  {
   "cell_type": "code",
   "execution_count": 14,
   "metadata": {},
   "outputs": [
    {
     "data": {
      "text/plain": [
       "np.float64(0.9710522292077026)"
      ]
     },
     "execution_count": 14,
     "metadata": {},
     "output_type": "execute_result"
    }
   ],
   "source": [
    "cumsum[250]"
   ]
  },
  {
   "cell_type": "code",
   "execution_count": 26,
   "metadata": {},
   "outputs": [
    {
     "data": {
      "text/plain": [
       "0         HEPES pH7.5, PAA (poly acrilic acid) 20%, MgCl...\n",
       "1         80-120mM MgCl2, 8% glycerol, 10% PEG 3350, 100...\n",
       "2            40% PEG400, 0.1M NaCitrate, 0.1M Tris-HCl, 7.5\n",
       "3            40% PEG400, 0.1M NaCitrate, 0.1M Tris-HCl, 7.5\n",
       "4            40% PEG400, 0.1M NaCitrate, 0.1M Tris-HCl, 7.5\n",
       "                                ...                        \n",
       "222361    phosphate, imidazole, pH 7.0, VAPOR DIFFUSION,...\n",
       "222362                100 mM MES\\n15% glycerol\\n15% PEG6000\n",
       "222363    1.45M sodium malonate, 0.5% (w/v) Jeffamine ED...\n",
       "222364    23% PEG3350, 100 mM Tris-HCl, pH 8.6, 200 mM m...\n",
       "222365    1.2 M sodium citrate and 20% (w/v) PEG 8K, pH ...\n",
       "Name: pdbx_details, Length: 222366, dtype: object"
      ]
     },
     "execution_count": 26,
     "metadata": {},
     "output_type": "execute_result"
    }
   ],
   "source": [
    "data_path = '/home/ofir/ofir_code/crystoper/data/pdb_data/processed_data.csv'\n",
    "sentences = pd.read_csv(data_path).pdbx_details\n",
    "sentences"
   ]
  },
  {
   "cell_type": "code",
   "execution_count": 29,
   "metadata": {},
   "outputs": [
    {
     "name": "stdout",
     "output_type": "stream",
     "text": [
      "HEPES pH7.5, PAA (poly acrilic acid) 20%, MgCl2 20 mM\n",
      "PEG 8000, CaCl2, MOPS, 1,10-decanedioic acid, pH 7.0, VAPOR DIFFUSION, HANGING DROP, temperature 298K\n",
      "10% w/v PEG 4000, 20% v/v glycerol, 0.03 M sodium fluoride, 0.03 M sodium bromide, 0.03 M sodium iodide, 0.1 M bicine/Trizma base pH 8.5, VAPOR DIFFUSION, SITTING DROP, temperature 277K\n",
      "20%(v/v) PEG 4000, 100mM MES pH 7.0, 600mM NaCl, 5% (v/v) Jeffamine M-600, VAPOR DIFFUSION, HANGING DROP, temperature 277K\n",
      "0.2M lithium sulphate, 0.1M Tris, 30% w/v PEG 4K, pH 8.5, NAD+ (0.09mM)\n",
      "0.1 M Hepes-NaOH pH 6.5\n",
      "0.9 M Na-Malonate\n",
      "0.25 % (v/v) Jeffamine ED-2003\n",
      "100 mM sodium cacodylate pH 5.5-7.0, 0.2 M magnesium acetate, 15-30% PEG 8000\n",
      "tris hydrochloride pH 7.8, magnesium acetate tetrahydrate, PEG 8000 and benzamidine\n",
      "1M NA/K PHOSPHATE PH3.2\n",
      "potassium dihydrogen phosphate, PEG 8000, glycerol, glucose, pH 5.1, VAPOR DIFFUSION, SITTING DROP, temperature 293K\n",
      "19% (v/v) Isopropanol, 19% (w/v) PEG 4000, 5% (v/v) Glycerol, 0.095 M Sodium citrate pH 5.6\n",
      "0.1M MES pH 6.4, 0.1M sodium acetate, 24-30 % w/v PEG 8000; followed by reaction of the crystal with hydrogen peroxide immediately prior to flash cooling., VAPOR DIFFUSION, HANGING DROP, temperature 293K\n",
      "0.2 M Potassium Sodium Tartrate 20 % (w/v) PEG 3350\n",
      "0.1M Magnesium chloride\n",
      "0.1M Sodium citrate pH 5\n",
      "15% PEG4000\n",
      "of  30% PEG 300, 0.1M MES buffer pH6.5\n",
      "0.2M Li2SO4, 35.0% MPD, 0.1M MES pH 6.0, VAPOR DIFFUSION,SITTING DROP,NANODROP, temperature 277K\n",
      "100 mM BisTris pH 5.45, 200 mM ammonium acetate, and 24% PEG 3350\n",
      "1.6M Ammonium Sulfate, 0.1M bis-tris pH 5.5\n",
      "20%w/v PEG 2000, 0.2M Trimethylamine N-oxide, 0.1M Tris, pH 9.0, VAPOR DIFFUSION, HANGING DROP, temperature 296K\n",
      "28% PEG4000, 0.1 M Tris, pH 8\n",
      "20%-25% PEG 3350, 0.15 M NaCl, 0.1 M Bis-Tris, pH 6.5, VAPOR DIFFUSION, HANGING DROP, temperature 298K\n",
      "well solution: PEG 8000, magnesium acetate, Hepes, pH 7.5, VAPOR DIFFUSION, HANGING DROP, temperature 293K\n",
      "0.2 M Ammonium sulfate, 0.1 M Sodium acetate pH 4.6, 30% w/v PEG 2000 MME\n",
      "20% PEG 3350, 0.2 M diammonium-L-tartrate , VAPOR DIFFUSION, SITTING DROP, temperature 291K\n",
      "24% MPD, 25 mM potassium phosphate, calcium chloride, pdTp, pH 8, VAPOR DIFFUSION, HANGING DROP, temperature 277K\n",
      "0.2 M Li citrate, 20% PEG 3350\n",
      "PEG 8000, sodium chloride, cacodylate , pH 6.5, VAPOR DIFFUSION, HANGING DROP, temperature 293K\n",
      "0.1M HEPES (pH-7.5), 0.2M NaCl, 20% PEG 3350\n",
      "0.1M Magnesium formate dehydrate, 20% PEG 3350\n",
      "0.1M Tris-HCl, 0.2M calcium chloride, 25% PEG 4000, pH 8.5, VAPOR DIFFUSION, HANGING DROP, temperature 291K\n",
      "0.1M Tris-HCl (pH8.5), 50% PEG 400\n",
      "30% PEG8000, 0.1 M MES, 0.2 M sodium acetate, pH 6.5, VAPOR DIFFUSION, HANGING DROP, temperature 291K\n",
      "20% PEG 3350, 0.2M Mg(OAC)2, pH 7.0, VAPOR DIFFUSION, HANGING DROP, temperature 300K\n",
      "2% polyethylene glycol (PEG) 6000, 3% DMSO, 1mM DTT, 0.1M MES buffer (pH 6.0), protein concentration 5mg/ml, VAPOR DIFFUSION, HANGING DROP, temperature 293K\n",
      "20 mM MgAC2, 13% MPD, 0.1 M MES\n",
      "100 mM Tris, 25% (w/v) PEG 3350, 200 mM NaCl   , pH 8.5, VAPOR DIFFUSION, HANGING DROP, temperature 293K\n",
      "100mM Sodium acetate, pH 4.6, 2.0M Sodium formate\n",
      "27% MPD, 0.1 M Hepes, pH 7.5, 0.2 M Ammonium Sulfate, VAPOR DIFFUSION, HANGING DROP, temperature 298.0K\n",
      "0.1 M HEPES PH 7.5, 0.2 M LI2SO4, 30% (W/V) PEG3350\n",
      "pH 6.6\n",
      "1.15 M sodium chloride, 0.1 M sodium acetate at pH 5.5\n",
      "0.2 M sodium fluoride\n",
      "0.1 M Bis-Tris propane pH 6.5\n",
      "20% w/v PEG 3350\n",
      "2.0 M ammonium sulphate, 20 mM potassium phosphate, 0.2 M EDTA, pH 7.0, VAPOR DIFFUSION, HANGING DROP, temperature\n",
      "20.0K\n",
      "20% PEG 1500, 0.1 M citric acid, and 4% (v/v) 2-methyl-2,4-pentanediol\n",
      "28% PEG3350 -- 0.1M HEPES pH 7.0 -- 0.25M ammonium sulfate\n"
     ]
    }
   ],
   "source": [
    "for s in sentences.iloc[0::5000]:\n",
    "    print(s)"
   ]
  },
  {
   "cell_type": "code",
   "execution_count": 3,
   "metadata": {},
   "outputs": [],
   "source": [
    "vec_path = '/home/ofir/ofir_code/crystoper/vectors/details/bart.npy'\n",
    "generated_tokens = np.load(vec_path)"
   ]
  },
  {
   "cell_type": "code",
   "execution_count": 4,
   "metadata": {},
   "outputs": [
    {
     "name": "stderr",
     "output_type": "stream",
     "text": [
      "/home/ofir/.pyenv/versions/3.10.13/envs/crystoEnv/lib/python3.10/site-packages/tqdm/auto.py:21: TqdmWarning: IProgress not found. Please update jupyter and ipywidgets. See https://ipywidgets.readthedocs.io/en/stable/user_install.html\n",
      "  from .autonotebook import tqdm as notebook_tqdm\n"
     ]
    }
   ],
   "source": [
    "import torch\n",
    "from torch.utils.data import DataLoader, Dataset\n",
    "from transformers import BartTokenizer, BartModel, BartForConditionalGeneration\n",
    "\n",
    "generation_model = BartForConditionalGeneration.from_pretrained('facebook/bart-large')\n",
    "    # Decode the generated tokens back into sentences\n"
   ]
  },
  {
   "cell_type": "code",
   "execution_count": 5,
   "metadata": {},
   "outputs": [],
   "source": [
    "tokenizer = BartTokenizer.from_pretrained('facebook/bart-large')\n"
   ]
  },
  {
   "cell_type": "code",
   "execution_count": 18,
   "metadata": {},
   "outputs": [],
   "source": [
    "v = generated_tokens[0]\n",
    "v = torch.from_numpy(v).reshape(1,-1).shape"
   ]
  },
  {
   "cell_type": "code",
   "execution_count": 20,
   "metadata": {},
   "outputs": [
    {
     "data": {
      "text/plain": [
       "'<pad> officers'"
      ]
     },
     "execution_count": 20,
     "metadata": {},
     "output_type": "execute_result"
    }
   ],
   "source": [
    "tokenizer.decode(v)"
   ]
  }
 ],
 "metadata": {
  "kernelspec": {
   "display_name": "crystoEnv",
   "language": "python",
   "name": "python3"
  },
  "language_info": {
   "codemirror_mode": {
    "name": "ipython",
    "version": 3
   },
   "file_extension": ".py",
   "mimetype": "text/x-python",
   "name": "python",
   "nbconvert_exporter": "python",
   "pygments_lexer": "ipython3",
   "version": "3.10.13"
  }
 },
 "nbformat": 4,
 "nbformat_minor": 2
}
